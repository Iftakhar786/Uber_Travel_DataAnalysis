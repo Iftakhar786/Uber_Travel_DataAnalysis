{
 "cells": [
  {
   "cell_type": "markdown",
   "id": "54de4ad7",
   "metadata": {},
   "source": [
    "**Importing necessary libraries**"
   ]
  },
  {
   "cell_type": "code",
   "execution_count": 3,
   "id": "99781f02",
   "metadata": {},
   "outputs": [],
   "source": [
    "import numpy as np\n",
    "import pandas as pd\n",
    "\n",
    "import matplotlib.pyplot as plt"
   ]
  },
  {
   "cell_type": "markdown",
   "id": "f07bf3dc",
   "metadata": {},
   "source": [
    "**Loadind Data set**"
   ]
  },
  {
   "cell_type": "code",
   "execution_count": 2,
   "id": "1dc9bc42",
   "metadata": {},
   "outputs": [
    {
     "ename": "NameError",
     "evalue": "name 'pd' is not defined",
     "output_type": "error",
     "traceback": [
      "\u001b[1;31m---------------------------------------------------------------------------\u001b[0m",
      "\u001b[1;31mNameError\u001b[0m                                 Traceback (most recent call last)",
      "Cell \u001b[1;32mIn[2], line 1\u001b[0m\n\u001b[1;32m----> 1\u001b[0m df \u001b[38;5;241m=\u001b[39m pd\u001b[38;5;241m.\u001b[39mread_csv(\u001b[38;5;124m'\u001b[39m\u001b[38;5;124mD:\u001b[39m\u001b[38;5;124m\\\u001b[39m\u001b[38;5;124mOstad DS Course\u001b[39m\u001b[38;5;124m\\\u001b[39m\u001b[38;5;124mData Science\u001b[39m\u001b[38;5;124m\\\u001b[39m\u001b[38;5;124mData set/UberDataset.csv\u001b[39m\u001b[38;5;124m'\u001b[39m)\n\u001b[0;32m      2\u001b[0m df\n",
      "\u001b[1;31mNameError\u001b[0m: name 'pd' is not defined"
     ]
    }
   ],
   "source": [
    "df = pd.read_csv('D:\\Ostad DS Course\\Data Science\\Data set/UberDataset.csv')\n",
    "df"
   ]
  },
  {
   "cell_type": "markdown",
   "id": "f316e668",
   "metadata": {},
   "source": [
    "**Checking NULL VALUE on data-set**"
   ]
  },
  {
   "cell_type": "code",
   "execution_count": null,
   "id": "1c5a1e97",
   "metadata": {},
   "outputs": [],
   "source": [
    "df.isnull().sum()"
   ]
  },
  {
   "cell_type": "markdown",
   "id": "82c6a1f2",
   "metadata": {},
   "source": [
    "**Checking NULL VALUE on PURPOSE Column**"
   ]
  },
  {
   "cell_type": "code",
   "execution_count": null,
   "id": "39d9f078",
   "metadata": {},
   "outputs": [],
   "source": [
    "df['PURPOSE'].isnull().sum()"
   ]
  },
  {
   "cell_type": "markdown",
   "id": "c9caa74d",
   "metadata": {},
   "source": [
    "**Converting NULL VALUE of PURPOSE column into empty string**"
   ]
  },
  {
   "cell_type": "code",
   "execution_count": 1,
   "id": "7a6ab4c1",
   "metadata": {},
   "outputs": [
    {
     "ename": "NameError",
     "evalue": "name 'df' is not defined",
     "output_type": "error",
     "traceback": [
      "\u001b[1;31m---------------------------------------------------------------------------\u001b[0m",
      "\u001b[1;31mNameError\u001b[0m                                 Traceback (most recent call last)",
      "Cell \u001b[1;32mIn[1], line 1\u001b[0m\n\u001b[1;32m----> 1\u001b[0m df[\u001b[38;5;124m'\u001b[39m\u001b[38;5;124mPURPOSE\u001b[39m\u001b[38;5;124m'\u001b[39m]\u001b[38;5;241m.\u001b[39mfillna(value \u001b[38;5;241m=\u001b[39m \u001b[38;5;124m'\u001b[39m\u001b[38;5;124mNULL VALUE\u001b[39m\u001b[38;5;124m'\u001b[39m,inplace\u001b[38;5;241m=\u001b[39m\u001b[38;5;28;01mTrue\u001b[39;00m)\n\u001b[0;32m      2\u001b[0m df\u001b[38;5;241m.\u001b[39mhead()\n",
      "\u001b[1;31mNameError\u001b[0m: name 'df' is not defined"
     ]
    }
   ],
   "source": [
    "df['PURPOSE'].fillna(value = 'NULL VALUE',inplace=True)\n",
    "df.head()"
   ]
  },
  {
   "cell_type": "markdown",
   "id": "192adde1",
   "metadata": {},
   "source": [
    "**Total value on PURPOSE Column**"
   ]
  },
  {
   "cell_type": "code",
   "execution_count": null,
   "id": "7d13401b",
   "metadata": {},
   "outputs": [],
   "source": [
    "df['PURPOSE'].count()"
   ]
  },
  {
   "cell_type": "markdown",
   "id": "7674d499",
   "metadata": {},
   "source": [
    "**NULL VALUE of PURPOSE column after converting inti empty string**"
   ]
  },
  {
   "cell_type": "code",
   "execution_count": null,
   "id": "88f768ca",
   "metadata": {},
   "outputs": [],
   "source": [
    "df.isnull().sum()"
   ]
  },
  {
   "cell_type": "markdown",
   "id": "8e15148c",
   "metadata": {},
   "source": [
    "**Checking Min. , Max. value on MILES (numeric value) column**"
   ]
  },
  {
   "cell_type": "code",
   "execution_count": null,
   "id": "c654ac11",
   "metadata": {},
   "outputs": [],
   "source": [
    "df['MILES'].min()\n"
   ]
  },
  {
   "cell_type": "code",
   "execution_count": null,
   "id": "5ed744eb",
   "metadata": {},
   "outputs": [],
   "source": [
    "df['MILES'].max()\n"
   ]
  },
  {
   "cell_type": "markdown",
   "id": "f43db7d2",
   "metadata": {},
   "source": [
    "**Total criteria on PURPOSE column**"
   ]
  },
  {
   "cell_type": "code",
   "execution_count": null,
   "id": "35e693fe",
   "metadata": {},
   "outputs": [],
   "source": [
    "df['PURPOSE'].unique()\n"
   ]
  },
  {
   "cell_type": "markdown",
   "id": "8df7de07",
   "metadata": {},
   "source": [
    "**Statistical analysis on data set**"
   ]
  },
  {
   "cell_type": "code",
   "execution_count": null,
   "id": "063f873e",
   "metadata": {},
   "outputs": [],
   "source": [
    "df.describe(include='all')"
   ]
  },
  {
   "cell_type": "markdown",
   "id": "bc7ed2eb",
   "metadata": {},
   "source": [
    "**Summation of MILES column**"
   ]
  },
  {
   "cell_type": "code",
   "execution_count": null,
   "id": "7345c542",
   "metadata": {},
   "outputs": [],
   "source": [
    "df['MILES'].sum()"
   ]
  },
  {
   "cell_type": "markdown",
   "id": "b8fda15d",
   "metadata": {},
   "source": [
    "**Grouping all PURPOSE's with relate to other parameters**"
   ]
  },
  {
   "cell_type": "code",
   "execution_count": null,
   "id": "52d9a47c",
   "metadata": {},
   "outputs": [],
   "source": [
    "z = df.groupby('PURPOSE').sum()\n",
    "z"
   ]
  },
  {
   "cell_type": "code",
   "execution_count": null,
   "id": "d9400148",
   "metadata": {},
   "outputs": [],
   "source": [
    "#df.groupby('CATEGORY').count()"
   ]
  },
  {
   "cell_type": "markdown",
   "id": "5d3dfef2",
   "metadata": {},
   "source": [
    "**Catagorizing PURPOSE VALUE corresponding with CATEGORY VALUE**"
   ]
  },
  {
   "cell_type": "code",
   "execution_count": null,
   "id": "e3feef6e",
   "metadata": {},
   "outputs": [],
   "source": [
    "df.groupby('CATEGORY').count()[['PURPOSE']]"
   ]
  },
  {
   "cell_type": "markdown",
   "id": "54abdb9b",
   "metadata": {},
   "source": [
    "**Checking PURPOSE and CATEGORY VALUE type**"
   ]
  },
  {
   "cell_type": "code",
   "execution_count": null,
   "id": "a9caa898",
   "metadata": {},
   "outputs": [],
   "source": [
    "print(df['CATEGORY'].dtype)\n",
    "\n",
    "print(df['PURPOSE'].dtype)"
   ]
  },
  {
   "cell_type": "code",
   "execution_count": null,
   "id": "68c7e736",
   "metadata": {},
   "outputs": [],
   "source": [
    "df"
   ]
  },
  {
   "cell_type": "markdown",
   "id": "529f27fd",
   "metadata": {},
   "source": [
    "**Printing plot after converting PURPOSE NULL VALUE into empty sting**"
   ]
  },
  {
   "cell_type": "code",
   "execution_count": null,
   "id": "e70c3733",
   "metadata": {},
   "outputs": [],
   "source": [
    "x = df['CATEGORY']\n",
    "y = df['PURPOSE']"
   ]
  },
  {
   "cell_type": "code",
   "execution_count": null,
   "id": "e8848f75",
   "metadata": {},
   "outputs": [],
   "source": [
    "plt.plot(x, y)"
   ]
  },
  {
   "cell_type": "markdown",
   "id": "72fd1037",
   "metadata": {},
   "source": [
    "**Printing Scatter-plot after converting PURPOSE NULL VALUE into empty sting**"
   ]
  },
  {
   "cell_type": "code",
   "execution_count": null,
   "id": "bcfd1729",
   "metadata": {},
   "outputs": [],
   "source": [
    "plt.scatter(x, y)\n",
    "\n",
    "plt.xlabel('CATEGORY')\n",
    "plt.ylabel('PURPOSE')\n",
    "\n",
    "plt.show()"
   ]
  },
  {
   "cell_type": "markdown",
   "id": "25f0447e",
   "metadata": {},
   "source": [
    "**Total value of CATEGORY COLUMN**"
   ]
  },
  {
   "cell_type": "code",
   "execution_count": null,
   "id": "b43b946b",
   "metadata": {},
   "outputs": [],
   "source": [
    "df['CATEGORY'].count()"
   ]
  },
  {
   "cell_type": "markdown",
   "id": "97e8a1a0",
   "metadata": {},
   "source": [
    "**Catagorizing CATEGORY-CAL VALUE corresponding with PURPOSE VALUE**"
   ]
  },
  {
   "cell_type": "code",
   "execution_count": null,
   "id": "8749f098",
   "metadata": {},
   "outputs": [],
   "source": [
    "df.groupby('PURPOSE').count()[['CATEGORY']]"
   ]
  },
  {
   "cell_type": "code",
   "execution_count": null,
   "id": "1f10ef6b",
   "metadata": {
    "scrolled": true
   },
   "outputs": [],
   "source": [
    "df['CATEGORY'].hist(bins=20, edgecolor='black',figsize=(10,3)) "
   ]
  },
  {
   "cell_type": "code",
   "execution_count": null,
   "id": "80dcb865",
   "metadata": {},
   "outputs": [],
   "source": [
    "df['PURPOSE'].hist(bins=20, edgecolor='black',figsize=(15,4)) "
   ]
  },
  {
   "cell_type": "code",
   "execution_count": null,
   "id": "8fd785f9",
   "metadata": {},
   "outputs": [],
   "source": [
    "df"
   ]
  },
  {
   "cell_type": "markdown",
   "id": "b1b76011",
   "metadata": {},
   "source": [
    "**Calculating CATEGORICAL VALUE with MILES column**"
   ]
  },
  {
   "cell_type": "code",
   "execution_count": null,
   "id": "b3428416",
   "metadata": {},
   "outputs": [],
   "source": [
    "x = df['MILES']\n",
    "y = df['CATEGORY']"
   ]
  },
  {
   "cell_type": "code",
   "execution_count": null,
   "id": "8cafd43c",
   "metadata": {},
   "outputs": [],
   "source": [
    "plt.scatter(x, y)\n",
    "\n",
    "plt.xlabel('MILES')\n",
    "plt.ylabel('CATEGORY')\n",
    "\n",
    "plt.show()"
   ]
  },
  {
   "cell_type": "code",
   "execution_count": null,
   "id": "bb9ef7ca",
   "metadata": {},
   "outputs": [],
   "source": [
    "x = df['CATEGORY']\n",
    "y = df['MILES']\n",
    "\n",
    "plt.plot(x, y)\n",
    "\n",
    "plt.xlabel('CATEGORY')\n",
    "plt.ylabel('MILES')\n",
    "\n",
    "plt.show()"
   ]
  },
  {
   "cell_type": "markdown",
   "id": "5bc918a2",
   "metadata": {},
   "source": [
    "**Calculating PURPOSE validity with MILES column**"
   ]
  },
  {
   "cell_type": "code",
   "execution_count": null,
   "id": "b93ef585",
   "metadata": {},
   "outputs": [],
   "source": [
    "x = df['MILES']\n",
    "y = df['PURPOSE']"
   ]
  },
  {
   "cell_type": "code",
   "execution_count": null,
   "id": "f3ea771b",
   "metadata": {},
   "outputs": [],
   "source": [
    "plt.scatter(x, y)\n",
    "\n",
    "plt.xlabel('MILES')\n",
    "plt.ylabel('PURPOSE')\n",
    "\n",
    "plt.show()"
   ]
  },
  {
   "cell_type": "code",
   "execution_count": null,
   "id": "59d1f9d1",
   "metadata": {},
   "outputs": [],
   "source": []
  },
  {
   "cell_type": "code",
   "execution_count": null,
   "id": "457e394c",
   "metadata": {},
   "outputs": [],
   "source": []
  },
  {
   "cell_type": "code",
   "execution_count": null,
   "id": "e01fc27e",
   "metadata": {},
   "outputs": [],
   "source": []
  },
  {
   "cell_type": "code",
   "execution_count": null,
   "id": "cb6af4ae",
   "metadata": {},
   "outputs": [],
   "source": []
  },
  {
   "cell_type": "code",
   "execution_count": null,
   "id": "e2e6b4a3",
   "metadata": {},
   "outputs": [],
   "source": []
  },
  {
   "cell_type": "code",
   "execution_count": null,
   "id": "c65f4e41",
   "metadata": {},
   "outputs": [],
   "source": []
  },
  {
   "cell_type": "code",
   "execution_count": null,
   "id": "fb394efd",
   "metadata": {},
   "outputs": [],
   "source": []
  },
  {
   "cell_type": "code",
   "execution_count": null,
   "id": "94569098",
   "metadata": {},
   "outputs": [],
   "source": []
  },
  {
   "cell_type": "code",
   "execution_count": null,
   "id": "57a91925",
   "metadata": {},
   "outputs": [],
   "source": []
  },
  {
   "cell_type": "code",
   "execution_count": null,
   "id": "d2fd88dc",
   "metadata": {},
   "outputs": [],
   "source": []
  },
  {
   "cell_type": "code",
   "execution_count": null,
   "id": "858f61cc",
   "metadata": {},
   "outputs": [],
   "source": []
  },
  {
   "cell_type": "code",
   "execution_count": null,
   "id": "0cd3cc6c",
   "metadata": {},
   "outputs": [],
   "source": []
  },
  {
   "cell_type": "code",
   "execution_count": null,
   "id": "0b18d699",
   "metadata": {},
   "outputs": [],
   "source": []
  },
  {
   "cell_type": "code",
   "execution_count": null,
   "id": "0a018bb5",
   "metadata": {},
   "outputs": [],
   "source": []
  },
  {
   "cell_type": "code",
   "execution_count": null,
   "id": "a7890c30",
   "metadata": {},
   "outputs": [],
   "source": []
  },
  {
   "cell_type": "code",
   "execution_count": null,
   "id": "74a4042c",
   "metadata": {},
   "outputs": [],
   "source": []
  },
  {
   "cell_type": "code",
   "execution_count": null,
   "id": "eb03b69c",
   "metadata": {},
   "outputs": [],
   "source": []
  },
  {
   "cell_type": "code",
   "execution_count": null,
   "id": "8792f019",
   "metadata": {},
   "outputs": [],
   "source": []
  },
  {
   "cell_type": "code",
   "execution_count": null,
   "id": "772fffa1",
   "metadata": {},
   "outputs": [],
   "source": []
  },
  {
   "cell_type": "code",
   "execution_count": null,
   "id": "4d6c47f0",
   "metadata": {},
   "outputs": [],
   "source": []
  },
  {
   "cell_type": "code",
   "execution_count": null,
   "id": "8a7a6e8d",
   "metadata": {},
   "outputs": [],
   "source": []
  },
  {
   "cell_type": "code",
   "execution_count": null,
   "id": "0221c8a0",
   "metadata": {},
   "outputs": [],
   "source": []
  },
  {
   "cell_type": "code",
   "execution_count": null,
   "id": "7e3377a2",
   "metadata": {},
   "outputs": [],
   "source": []
  },
  {
   "cell_type": "code",
   "execution_count": null,
   "id": "a9a7c874",
   "metadata": {},
   "outputs": [],
   "source": []
  },
  {
   "cell_type": "code",
   "execution_count": null,
   "id": "ee1dc7a3",
   "metadata": {},
   "outputs": [],
   "source": []
  },
  {
   "cell_type": "code",
   "execution_count": null,
   "id": "7bd8964e",
   "metadata": {},
   "outputs": [],
   "source": []
  },
  {
   "cell_type": "code",
   "execution_count": null,
   "id": "202721d8",
   "metadata": {},
   "outputs": [],
   "source": []
  },
  {
   "cell_type": "code",
   "execution_count": null,
   "id": "3387ec2c",
   "metadata": {},
   "outputs": [],
   "source": []
  },
  {
   "cell_type": "code",
   "execution_count": null,
   "id": "23080279",
   "metadata": {},
   "outputs": [],
   "source": []
  },
  {
   "cell_type": "code",
   "execution_count": null,
   "id": "2f50d0d8",
   "metadata": {},
   "outputs": [],
   "source": []
  },
  {
   "cell_type": "code",
   "execution_count": null,
   "id": "8a769884",
   "metadata": {},
   "outputs": [],
   "source": []
  },
  {
   "cell_type": "code",
   "execution_count": null,
   "id": "0fd81ead",
   "metadata": {},
   "outputs": [],
   "source": []
  },
  {
   "cell_type": "code",
   "execution_count": null,
   "id": "dd7b2620",
   "metadata": {},
   "outputs": [],
   "source": []
  },
  {
   "cell_type": "code",
   "execution_count": null,
   "id": "b65afa53",
   "metadata": {},
   "outputs": [],
   "source": []
  },
  {
   "cell_type": "code",
   "execution_count": null,
   "id": "d00d5789",
   "metadata": {},
   "outputs": [],
   "source": []
  },
  {
   "cell_type": "code",
   "execution_count": null,
   "id": "03058e48",
   "metadata": {},
   "outputs": [],
   "source": []
  },
  {
   "cell_type": "code",
   "execution_count": null,
   "id": "0d94bbfd",
   "metadata": {},
   "outputs": [],
   "source": []
  },
  {
   "cell_type": "code",
   "execution_count": null,
   "id": "65810dfd",
   "metadata": {},
   "outputs": [],
   "source": []
  },
  {
   "cell_type": "code",
   "execution_count": null,
   "id": "ca4a309b",
   "metadata": {},
   "outputs": [],
   "source": []
  }
 ],
 "metadata": {
  "kernelspec": {
   "display_name": "Python 3 (ipykernel)",
   "language": "python",
   "name": "python3"
  },
  "language_info": {
   "codemirror_mode": {
    "name": "ipython",
    "version": 3
   },
   "file_extension": ".py",
   "mimetype": "text/x-python",
   "name": "python",
   "nbconvert_exporter": "python",
   "pygments_lexer": "ipython3",
   "version": "3.11.5"
  }
 },
 "nbformat": 4,
 "nbformat_minor": 5
}
